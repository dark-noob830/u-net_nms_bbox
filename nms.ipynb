{
 "cells": [
  {
   "cell_type": "code",
   "id": "b8a2466e",
   "metadata": {
    "ExecuteTime": {
     "end_time": "2025-07-18T11:38:45.647070Z",
     "start_time": "2025-07-18T11:38:45.639682Z"
    }
   },
   "source": [
    "import numpy as np\n",
    "\n",
    "def compute_iou(box1, box2):\n",
    "    \"\"\"\n",
    "    Compute Intersection over Union (IoU) between two boxes.\n",
    "    Each box: (x1, y1, x2, y2)\n",
    "    \"\"\"\n",
    "    # Coordinates of the intersection box\n",
    "    xA = max(box1[0], box2[0])\n",
    "    yA = max(box1[1], box2[1])\n",
    "    xB = min(box1[2], box2[2])\n",
    "    yB = min(box1[3], box2[3])\n",
    "    \n",
    "    inter_area = max(0, xB - xA) * max(0, yB - yA)\n",
    "    \n",
    "    # Compute areas of the input boxes\n",
    "    box1_area = (box1[2] - box1[0]) * (box1[3] - box1[1])\n",
    "    box2_area = (box2[2] - box2[0]) * (box2[3] - box2[1])\n",
    "    \n",
    "    # Union area\n",
    "    union_area = box1_area + box2_area - inter_area\n",
    "    \n",
    "    # Return IoU\n",
    "    return inter_area / union_area\n",
    "\n",
    "def non_max_suppression(boxes, scores, iou_threshold=0.5):\n",
    "    \"\"\"\n",
    "    Apply Non-Maximum Suppression on predicted bounding boxes.\n",
    "    \n",
    "    Parameters:\n",
    "        boxes (list): List of boxes [x1, y1, x2, y2]\n",
    "        scores (list): Confidence scores for each box\n",
    "        iou_threshold (float): Overlap threshold for suppression\n",
    "\n",
    "    Returns:\n",
    "        selected_boxes: boxes that survive NMS\n",
    "    \"\"\"\n",
    "    selected_boxes = []\n",
    "\n",
    "    # TODO: Sort boxes by descending score\n",
    "    indices = np.argsort(scores)[::-1]\n",
    "    while len(indices) > 0:\n",
    "        # Select box with highest score\n",
    "        current = indices[0]\n",
    "        selected_boxes.append(boxes[current])\n",
    "        \n",
    "        # TODO: Remove boxes with high IoU overlap\n",
    "        remaining = []\n",
    "        for i in indices[1:]:\n",
    "            iou = compute_iou(boxes[current], boxes[i])\n",
    "            if iou < iou_threshold:\n",
    "                remaining.append(i)\n",
    "        \n",
    "        indices = remaining\n",
    "\n",
    "    return selected_boxes\n",
    "\n",
    "# Test input\n",
    "boxes = [\n",
    "    [10, 10, 50, 50],\n",
    "    [12, 12, 48, 48],\n",
    "    [100, 100, 150, 150]\n",
    "]\n",
    "scores = [0.9, 0.8, 0.7]\n",
    "\n",
    "# Should suppress the second box\n",
    "print(non_max_suppression(boxes, scores))\n"
   ],
   "outputs": [
    {
     "name": "stdout",
     "output_type": "stream",
     "text": [
      "[[10, 10, 50, 50], [100, 100, 150, 150]]\n"
     ]
    }
   ],
   "execution_count": 7
  },
  {
   "metadata": {},
   "cell_type": "code",
   "outputs": [],
   "execution_count": null,
   "source": "",
   "id": "79e77e8bc7b9fd92"
  }
 ],
 "metadata": {
  "language_info": {
   "name": "python"
  }
 },
 "nbformat": 4,
 "nbformat_minor": 5
}
