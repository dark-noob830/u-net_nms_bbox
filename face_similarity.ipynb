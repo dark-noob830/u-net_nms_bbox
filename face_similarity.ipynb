{
  "cells": [
    {
      "cell_type": "markdown",
      "metadata": {
        "id": "K53Esa850dqr"
      },
      "source": [
        "## Q2: Face Similarity with Siamese Network (One-shot Learning)"
      ]
    },
    {
      "cell_type": "code",
      "execution_count": 3,
      "metadata": {
        "id": "sv7aMnZm_Vic"
      },
      "outputs": [],
      "source": [
        "import torch\n",
        "import torch.nn as nn\n",
        "import torch.nn.functional as F\n",
        "import torchvision.transforms as transforms\n",
        "from torch.utils.data import Dataset, DataLoader\n",
        "from torchvision import models\n",
        "import numpy as np\n",
        "from PIL import Image\n",
        "from sklearn.datasets import fetch_lfw_people\n",
        "from sklearn.model_selection import train_test_split\n",
        "import random\n",
        "\n",
        "# ---------- Siamese Dataset ----------\n",
        "class SiameseFaceDataset(Dataset):\n",
        "    def __init__(self, images, labels, transform):\n",
        "        self.images = images\n",
        "        self.labels = labels\n",
        "        self.transform = transform\n",
        "        self.class_to_indices = self._build_class_index()\n",
        "\n",
        "    def _build_class_index(self):\n",
        "        index = {}\n",
        "        for i, label in enumerate(self.labels):\n",
        "            index.setdefault(label, []).append(i)\n",
        "        return index\n",
        "\n",
        "    def __getitem__(self, index):\n",
        "        img1 = self.images[index]\n",
        "        label1 = self.labels[index]\n",
        "\n",
        "        if random.random() > 0.2:\n",
        "            label2 = label1\n",
        "            idx2 = random.choice(self.class_to_indices[label1])\n",
        "            target = 1\n",
        "        else:\n",
        "            label2 = random.choice([l for l in self.class_to_indices if l != label1])\n",
        "            idx2 = random.choice(self.class_to_indices[label2])\n",
        "            target = 0\n",
        "\n",
        "        img2 = self.images[idx2]\n",
        "\n",
        "        img1 = self.transform(Image.fromarray(np.uint8(img1)))\n",
        "        img2 = self.transform(Image.fromarray(np.uint8(img2)))\n",
        "\n",
        "        return img1, img2, torch.tensor([target], dtype=torch.float32)\n",
        "\n",
        "    def __len__(self):\n",
        "        return len(self.images)\n",
        "\n",
        "# ---------- Siamese Network ----------\n",
        "class SiameseNet(nn.Module):\n",
        "    def __init__(self):\n",
        "        super(SiameseNet, self).__init__()\n",
        "        base_model = models.resnet50(pretrained=True)\n",
        "        base_model.fc = nn.Linear(base_model.fc.in_features, 128)\n",
        "        self.model = base_model\n",
        "\n",
        "    def forward_once(self, x):\n",
        "        return F.normalize(self.model(x), p=2, dim=1)\n",
        "\n",
        "    def forward(self, x1, x2):\n",
        "        out1 = self.forward_once(x1)\n",
        "        out2 = self.forward_once(x2)\n",
        "        return out1, out2\n",
        "\n",
        "# ---------- Contrastive Loss ----------\n",
        "class ContrastiveLoss(nn.Module):\n",
        "    def __init__(self, margin=1.0):\n",
        "        super(ContrastiveLoss, self).__init__()\n",
        "        self.margin = margin\n",
        "\n",
        "    def forward(self, output1, output2, label):\n",
        "        dist = F.pairwise_distance(output1, output2)\n",
        "        loss = 0.5 * (label * dist**2 + (1 - label) * torch.clamp(self.margin - dist, min=0.0)**2)\n",
        "        return loss.mean()\n",
        "\n",
        "# ---------- Load Dataset ----------\n",
        "lfw_people = fetch_lfw_people(min_faces_per_person=50, resize=0.4)\n",
        "X = lfw_people.images\n",
        "y = lfw_people.target\n",
        "\n",
        "X_train, X_test, y_train, y_test = train_test_split(X, y, test_size=0.2)\n",
        "\n",
        "transform = transforms.Compose([\n",
        "    transforms.Resize((128, 128)),\n",
        "    transforms.Grayscale(3),\n",
        "    transforms.ToTensor()\n",
        "])\n",
        "\n",
        "train_dataset = SiameseFaceDataset(X_train, y_train, transform)\n",
        "train_loader = DataLoader(train_dataset, batch_size=32, shuffle=True)"
      ]
    },
    {
      "cell_type": "code",
      "execution_count": 4,
      "metadata": {
        "colab": {
          "base_uri": "https://localhost:8080/"
        },
        "id": "OjzHG2T4kfq6",
        "outputId": "09d724ce-4708-41ed-b3f3-f90ef29a9338"
      },
      "outputs": [
        {
          "output_type": "stream",
          "name": "stdout",
          "text": [
            "Epoch [1/30], Loss: 0.0899\n",
            "Epoch [2/30], Loss: 0.0842\n",
            "Epoch [3/30], Loss: 0.0974\n",
            "Epoch [4/30], Loss: 0.0959\n",
            "Epoch [5/30], Loss: 0.0767\n",
            "Epoch [6/30], Loss: 0.0867\n",
            "Epoch [7/30], Loss: 0.0851\n",
            "Epoch [8/30], Loss: 0.0921\n",
            "Epoch [9/30], Loss: 0.0817\n",
            "Epoch [10/30], Loss: 0.0917\n",
            "Epoch [11/30], Loss: 0.0910\n",
            "Epoch [12/30], Loss: 0.0906\n",
            "Epoch [13/30], Loss: 0.0936\n",
            "Epoch [14/30], Loss: 0.0886\n",
            "Epoch [15/30], Loss: 0.0942\n",
            "Epoch [16/30], Loss: 0.0841\n",
            "Epoch [17/30], Loss: 0.0930\n",
            "Epoch [18/30], Loss: 0.0916\n",
            "Epoch [19/30], Loss: 0.0922\n",
            "Epoch [20/30], Loss: 0.0849\n",
            "Epoch [21/30], Loss: 0.0805\n",
            "Epoch [22/30], Loss: 0.0778\n",
            "Epoch [23/30], Loss: 0.0834\n",
            "Epoch [24/30], Loss: 0.0920\n",
            "Epoch [25/30], Loss: 0.0901\n",
            "Epoch [26/30], Loss: 0.0852\n",
            "Epoch [27/30], Loss: 0.0881\n",
            "Epoch [28/30], Loss: 0.0875\n",
            "Epoch [29/30], Loss: 0.0868\n",
            "Epoch [30/30], Loss: 0.0826\n"
          ]
        }
      ],
      "source": [
        "device = torch.device(\"cuda\" if torch.cuda.is_available() else \"cpu\")\n",
        "\n",
        "model = SiameseNet().to(device)\n",
        "criterion = ContrastiveLoss(margin=1.0)\n",
        "optimizer = torch.optim.Adam(model.parameters(), lr=1e-4)\n",
        "\n",
        "num_epochs = 30\n",
        "\n",
        "for epoch in range(num_epochs):\n",
        "    model.train()\n",
        "    total_loss = 0.0\n",
        "\n",
        "    for img1, img2, label in train_loader:\n",
        "        img1, img2, label = img1.to(device), img2.to(device), label.to(device)\n",
        "\n",
        "        # Forward pass\n",
        "        out1, out2 = model(img1, img2)\n",
        "        loss = criterion(out1, out2, label)\n",
        "\n",
        "        # Backpropagation\n",
        "        optimizer.zero_grad()\n",
        "        loss.backward()\n",
        "        optimizer.step()\n",
        "\n",
        "        total_loss += loss.item()\n",
        "\n",
        "    avg_loss = total_loss / len(train_loader)\n",
        "    print(f\"Epoch [{epoch+1}/{num_epochs}], Loss: {avg_loss:.4f}\")\n"
      ]
    },
    {
      "cell_type": "code",
      "execution_count": 5,
      "metadata": {
        "colab": {
          "base_uri": "https://localhost:8080/"
        },
        "id": "n_ryNmlCuN2E",
        "outputId": "50916936-6a44-49c0-9dc1-378a557bab1f"
      },
      "outputs": [
        {
          "output_type": "stream",
          "name": "stdout",
          "text": [
            "Accuracy: 75.00%\n"
          ]
        }
      ],
      "source": [
        "from sklearn.metrics import accuracy_score\n",
        "\n",
        "test_dataset = SiameseFaceDataset(X_test, y_test, transform)\n",
        "test_loader = DataLoader(test_dataset, batch_size=1, shuffle=False)\n",
        "\n",
        "model.eval()\n",
        "all_labels = []\n",
        "all_preds = []\n",
        "\n",
        "with torch.no_grad():\n",
        "    for img1, img2, label in test_loader:\n",
        "        out1, out2 = model(img1.to(device), img2.to(device))\n",
        "        dist = F.pairwise_distance(out1, out2)\n",
        "\n",
        "        threshold = 0.1\n",
        "        pred = (dist < threshold).float()\n",
        "        all_labels.append(label.item())\n",
        "        all_preds.append(pred.item())\n",
        "\n",
        "\n",
        "acc = accuracy_score(all_labels, all_preds)\n",
        "print(f\"Accuracy: {acc * 100:.2f}%\")\n"
      ]
    },
    {
      "cell_type": "code",
      "execution_count": 6,
      "metadata": {
        "colab": {
          "base_uri": "https://localhost:8080/",
          "height": 641
        },
        "id": "VMen5-aLI3RL",
        "outputId": "790768e8-6639-4fd2-8389-54d1d7b5b375"
      },
      "outputs": [
        {
          "output_type": "display_data",
          "data": {
            "text/plain": [
              "<Figure size 1000x700 with 1 Axes>"
            ],
            "image/png": "[encoded data removed]"
          },
          "metadata": {}
        }
      ],
      "source": [
        "from sklearn.decomposition import PCA\n",
        "import matplotlib.pyplot as plt\n",
        "\n",
        "model.eval()\n",
        "embeddings = []\n",
        "labels = []\n",
        "\n",
        "with torch.no_grad():\n",
        "    for img1, img2, label in test_loader:\n",
        "        img1 = img1.to(device)\n",
        "        out = model.forward_once(img1)\n",
        "        embeddings.append(out.squeeze().cpu().numpy())\n",
        "        labels.append(label.item())\n",
        "embeddings_np = np.array(embeddings)\n",
        "labels_np = np.array(labels)\n",
        "\n",
        "pca = PCA(n_components=2)\n",
        "embeddings_2d = pca.fit_transform(embeddings_np)\n",
        "colors = ['green' if l == 1 else 'red' for l in labels_np]\n",
        "\n",
        "plt.figure(figsize=(10, 7))\n",
        "plt.scatter(embeddings_2d[:, 0], embeddings_2d[:, 1], c=colors, alpha=0.6)\n",
        "plt.title(\"PCA Visualization of Face Embeddings\")\n",
        "plt.xlabel(\"Principal Component 1\")\n",
        "plt.ylabel(\"Principal Component 2\")\n",
        "plt.grid(True)\n",
        "plt.show()\n"
      ]
    },
    {
      "cell_type": "code",
      "source": [],
      "metadata": {
        "id": "DiTHH9QteOZk"
      },
      "execution_count": null,
      "outputs": []
    }
  ],
  "metadata": {
    "accelerator": "GPU",
    "colab": {
      "gpuType": "T4",
      "provenance": []
    },
    "kernelspec": {
      "display_name": "Python 3",
      "name": "python3"
    },
    "language_info": {
      "name": "python"
    }
  },
  "nbformat": 4,
  "nbformat_minor": 0
}