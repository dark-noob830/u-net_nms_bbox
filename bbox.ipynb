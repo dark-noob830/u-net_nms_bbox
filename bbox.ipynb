{
 "cells": [
  {
   "cell_type": "code",
   "id": "30c27046",
   "metadata": {
    "ExecuteTime": {
     "end_time": "2025-07-18T11:18:23.642922Z",
     "start_time": "2025-07-18T11:18:23.637580Z"
    }
   },
   "source": [
    "def generate_anchor_boxes(center_x, center_y, scales=[0.1, 0.2], aspect_ratios=[1.0, 2.0, 0.5]):\n",
    "    \"\"\"\n",
    "    Generate anchor boxes for a single cell on the feature map.\n",
    "\n",
    "    Parameters:\n",
    "        center_x (float): x center of the anchor box (e.g., 0.5)\n",
    "        center_y (float): y center of the anchor box (e.g., 0.5)\n",
    "        scales (list of float): list of box sizes (relative to image size)\n",
    "        aspect_ratios (list of float): list of box aspect ratios (width/height)\n",
    "\n",
    "    Returns:\n",
    "        anchors (list of tuples): each tuple = (cx, cy, w, h) relative to image size\n",
    "    \"\"\"\n",
    "    anchors = []\n",
    "\n",
    "    # TODO: Loop over each scale and aspect ratio\n",
    "    for scale in scales:\n",
    "        for ratio in aspect_ratios:\n",
    "            # width = scale * sqrt(ratio), height = scale / sqrt(ratio)\n",
    "            w = scale * (ratio ** 0.5)\n",
    "            h = scale / (ratio ** 0.5)\n",
    "            \n",
    "            # TODO: Append anchor box (cx, cy, w, h)\n",
    "            anchors.append((center_x, center_y, w, h))\n",
    "    \n",
    "    return anchors\n",
    "\n",
    "# Example:\n",
    "print(generate_anchor_boxes(0.5, 0.5))\n",
    "# Output should be 6 anchor boxes centered at (0.5, 0.5) with different shapes\n"
   ],
   "outputs": [
    {
     "name": "stdout",
     "output_type": "stream",
     "text": [
      "[(0.5, 0.5, 0.1, 0.1), (0.5, 0.5, 0.14142135623730953, 0.07071067811865475), (0.5, 0.5, 0.07071067811865477, 0.1414213562373095), (0.5, 0.5, 0.2, 0.2), (0.5, 0.5, 0.28284271247461906, 0.1414213562373095), (0.5, 0.5, 0.14142135623730953, 0.282842712474619)]\n"
     ]
    }
   ],
   "execution_count": 2
  },
  {
   "metadata": {},
   "cell_type": "code",
   "outputs": [],
   "execution_count": null,
   "source": "",
   "id": "87c5c5653a63a170"
  }
 ],
 "metadata": {
  "language_info": {
   "name": "python"
  }
 },
 "nbformat": 4,
 "nbformat_minor": 5
}
